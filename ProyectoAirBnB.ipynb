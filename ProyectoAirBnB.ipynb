{
 "cells": [
  {
   "cell_type": "code",
   "execution_count": null,
   "metadata": {},
   "outputs": [],
   "source": [
    "#Importamos las librerias que necesitaremos para este proyecto\n",
    "import pandas as pd\n",
    "import numpy as np\n",
    "import matplotlib.pyplot as plt\n",
    "import seaborn as sns"
   ]
  },
  {
   "cell_type": "code",
   "execution_count": null,
   "metadata": {},
   "outputs": [],
   "source": [
    "#Lectura de los CSV proporcionados\n",
    "calendar = pd.read_csv( r\"c:\\Users\\Gary Alexander Bean\\Downloads\\calendar.csv\")\n",
    "listings = pd.read_csv(r\"c:\\Users\\Gary Alexander Bean\\Downloads\\listings.csv\")\n",
    "reviews = pd.read_csv(r\"c:\\Users\\Gary Alexander Bean\\Downloads\\reviews.csv\")"
   ]
  },
  {
   "cell_type": "markdown",
   "metadata": {},
   "source": [
    "PEOCESO ETL"
   ]
  },
  {
   "cell_type": "code",
   "execution_count": 24,
   "metadata": {},
   "outputs": [
    {
     "name": "stdout",
     "output_type": "stream",
     "text": [
      "Columnas de la tabla calendar:\n",
      "Index(['Listing_id', 'Date', 'Available', 'Price', 'Adjusted_price',\n",
      "       'Minimum_nights', 'Maximum_nights'],\n",
      "      dtype='object')\n"
     ]
    }
   ],
   "source": [
    "#Haremos un proceso ETL a las tablas que tenemos\n",
    "#Tabla Calendar\n",
    "\n",
    "#Renombramos columnas en estilo \"Proper Case\"\n",
    "calendar.columns = [col.capitalize() for col in calendar.columns]\n",
    "\n",
    "#Cambiamos los tipos de datos\n",
    "calendar['Listing_id'] = calendar['Listing_id'].astype('int64')\n",
    "calendar['Date'] = pd.to_datetime(calendar['Date'])\n",
    "calendar['Available'] = calendar['Available'].replace({'f': 'NoAvailable', 't': 'Available'})\n",
    "\n",
    "#Remplazar valores\n",
    "calendar['Available'] = calendar['Available'].replace('NoAvailable', 'Rented')\n",
    "\n",
    "# Convertir la columna 'Price' a tipo de datos string \n",
    "calendar['Price'] = calendar['Price'].astype(str)\n",
    "\n",
    "# Eliminar caracteres no deseados y convertir a tipo numérico\n",
    "calendar['Price'] = calendar['Price'].str.replace('[$,]', '', regex=True).astype(float)\n",
    "\n",
    "\n",
    "# Verificamos las columnas que tiene la tabla\n",
    "print(\"Columnas de la tabla calendar:\")\n",
    "print(calendar.columns)"
   ]
  },
  {
   "cell_type": "code",
   "execution_count": 20,
   "metadata": {},
   "outputs": [],
   "source": [
    "#Tabla listing\n",
    "\n",
    "# Renombrar columnas en estilo \"Proper Case\"\n",
    "listings.columns = [col.capitalize() for col in listings.columns]\n",
    "\n",
    "# Cambiar valores específicos\n",
    "listings[\"Host_response_time\"].replace({\"\": \"No Data\", \"N/A\": \"No Data\"}, inplace=True)\n",
    "listings[\"Host_response_rate\"].replace(\"N/A\", \"No Data\", inplace=True)\n",
    "listings[\"Host_acceptance_rate\"].replace(\"N/A\", \"No Data\", inplace=True)\n",
    "listings[\"Host_is_superhost\"].replace({\"t\": \"Superhost\", \"f\": \"Host\"}, inplace=True)\n",
    "listings[\"Host_has_profile_pic\"].replace({\"t\": \"Yes\", \"f\": \"No\"}, inplace=True)\n",
    "listings[\"Host_identity_verified\"].replace({\"t\": \"Yes\", \"f\": \"No\"}, inplace=True)\n",
    "listings[\"City\"].replace({\"Other (International)\": \"Buenos Aires\", \"Mendoza\": \"Buenos Aires\", \"Ocean City\": \"Buenos Aires\", \"South Florida Gulf Coast\": \"Buenos Aires\", \"Beirut\": \"Buenos Aires\", \"\": \"Buenos Aires\"}, inplace=True)\n",
    "listings[\"Is_location_exact\"].replace({\"t\": \"Yes\", \"f\": \"No\"}, inplace=True)\n",
    "listings[\"Instant_bookable\"].replace({\"t\": \"InstantBookable\", \"f\": \"NotInstantBookable\"}, inplace=True)\n",
    "\n",
    "# Convertir la columna 'Price' a tipo de datos string (str)\n",
    "listings['Price'] = listings['Price'].astype(str)\n",
    "\n",
    "# Eliminar caracteres no deseados y convertir a tipo numérico\n",
    "listings['Price'] = listings['Price'].str.replace('[$,]', '', regex=True).astype(float)\n",
    "\n",
    "# Verificamos las columnas que tiene la tabla\n",
    "print(\"Columnas de la tabla listings:\")\n",
    "print(listings.columns)\n"
   ]
  },
  {
   "cell_type": "code",
   "execution_count": 21,
   "metadata": {},
   "outputs": [
    {
     "name": "stdout",
     "output_type": "stream",
     "text": [
      "Columnas de la tabla listings:\n",
      "Index(['Listing_id', 'Id_review', 'Date', 'Reviewer_id', 'Reviewer_name',\n",
      "       'Comments'],\n",
      "      dtype='object')\n"
     ]
    }
   ],
   "source": [
    "# Tabla reviews\n",
    "\n",
    "# Cambiar tipos de dato\n",
    "reviews[\"listing_id\"] = reviews[\"listing_id\"].astype(int)\n",
    "reviews[\"id\"] = reviews[\"id\"].astype(int)\n",
    "reviews[\"date\"] = pd.to_datetime(reviews[\"date\"])\n",
    "reviews[\"reviewer_id\"] = reviews[\"reviewer_id\"].astype(int)\n",
    "reviews[\"reviewer_name\"] = reviews[\"reviewer_name\"].astype(str)\n",
    "reviews[\"comments\"] = reviews[\"comments\"].astype(str)\n",
    "\n",
    "# Cambiar nombres de columnas a mayuscula inicial\n",
    "reviews.columns = [col.capitalize() for col in reviews.columns]\n",
    "\n",
    "# Cambiar nombre de columna \"Id\" a \"Id_review\"\n",
    "reviews.rename(columns={\"Id\": \"Id_review\"}, inplace=True)\n",
    "\n",
    "# Limpiar y recortar el texto en la columna \"Comments\"\n",
    "reviews[\"Comments\"] = reviews[\"Comments\"].str.strip()\n",
    "\n",
    "# Verificamos las columnas que tiene la tabla\n",
    "print(\"Columnas de la tabla reviews:\")\n",
    "print(reviews.columns)\n"
   ]
  }
 ],
 "metadata": {
  "kernelspec": {
   "display_name": "Python 3",
   "language": "python",
   "name": "python3"
  },
  "language_info": {
   "codemirror_mode": {
    "name": "ipython",
    "version": 3
   },
   "file_extension": ".py",
   "mimetype": "text/x-python",
   "name": "python",
   "nbconvert_exporter": "python",
   "pygments_lexer": "ipython3",
   "version": "3.12.0"
  }
 },
 "nbformat": 4,
 "nbformat_minor": 2
}
