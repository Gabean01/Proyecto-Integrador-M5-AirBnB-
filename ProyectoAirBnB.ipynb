{
 "cells": [
  {
   "cell_type": "code",
   "execution_count": null,
   "metadata": {},
   "outputs": [],
   "source": [
    "#Importamos las librerias que necesitaremos para este proyecto\n",
    "import pandas as pd\n",
    "import numpy as np\n",
    "import matplotlib.pyplot as plt\n",
    "import seaborn as sns"
   ]
  },
  {
   "cell_type": "code",
   "execution_count": null,
   "metadata": {},
   "outputs": [],
   "source": [
    "#Lectura de los CSV proporcionados\n",
    "calendar = pd.read_csv( r\"c:\\Users\\Gary Alexander Bean\\Downloads\\calendar.csv\")\n",
    "listings = pd.read_csv(r\"c:\\Users\\Gary Alexander Bean\\Downloads\\listings.csv\")\n",
    "reviews = pd.read_csv(r\"c:\\Users\\Gary Alexander Bean\\Downloads\\reviews.csv\")"
   ]
  },
  {
   "cell_type": "markdown",
   "metadata": {},
   "source": [
    "PEOCESO ETL"
   ]
  },
  {
   "cell_type": "code",
   "execution_count": null,
   "metadata": {},
   "outputs": [],
   "source": [
    "#Haremos un proceso ETL a las tablas que tenemos\n",
    "#Tabla Calendar\n",
    "\n",
    "#Renombramos columnas en estilo \"Proper Case\"\n",
    "calendar.columns = [col.capitalize() for col in calendar.columns]\n",
    "\n",
    "#Cambiamos los tipos de datos\n",
    "calendar['Listing_id'] = calendar['Listing_id'].astype('int64')\n",
    "calendar['Date'] = pd.to_datetime(calendar['Date'])\n",
    "calendar['Available'] = calendar['Available'].replace({'f': 'NoAvailable', 't': 'Available'})\n",
    "\n",
    "#Remplazar valores\n",
    "calendar['Available'] = calendar['Available'].replace('NoAvailable', 'Rented')\n",
    "\n",
    "# Convertir la columna 'Price' a tipo de datos string \n",
    "calendar['Price'] = calendar['Price'].astype(str)\n",
    "\n",
    "# Eliminar caracteres no deseados y convertir a tipo numérico\n",
    "calendar['Price'] = calendar['Price'].str.replace('[$,]', '', regex=True).astype(float)\n",
    "\n",
    "\n",
    "# Verificamos las columnas que tiene la tabla\n",
    "print(\"Columnas de la tabla calendar:\")\n",
    "print(calendar.columns)"
   ]
  },
  {
   "cell_type": "code",
   "execution_count": 15,
   "metadata": {},
   "outputs": [
    {
     "name": "stdout",
     "output_type": "stream",
     "text": [
      "Columnas de la tabla listings:\n",
      "Index(['Id', 'Listing_url', 'Scrape_id', 'Last_scraped', 'Name', 'Summary',\n",
      "       'Space', 'Description', 'Experiences_offered', 'Neighborhood_overview',\n",
      "       ...\n",
      "       'Instant_bookable', 'Is_business_travel_ready', 'Cancellation_policy',\n",
      "       'Require_guest_profile_picture', 'Require_guest_phone_verification',\n",
      "       'Calculated_host_listings_count',\n",
      "       'Calculated_host_listings_count_entire_homes',\n",
      "       'Calculated_host_listings_count_private_rooms',\n",
      "       'Calculated_host_listings_count_shared_rooms', 'Reviews_per_month'],\n",
      "      dtype='object', length=106)\n"
     ]
    }
   ],
   "source": [
    "#Tabla listing\n",
    "\n",
    "# Renombrar columnas en estilo \"Proper Case\"\n",
    "listings.columns = [col.capitalize() for col in listings.columns]\n",
    "\n",
    "# Cambiar valores específicos\n",
    "listings[\"Host_response_time\"].replace({\"\": \"No Data\", \"N/A\": \"No Data\"}, inplace=True)\n",
    "listings[\"Host_response_rate\"].replace(\"N/A\", \"No Data\", inplace=True)\n",
    "listings[\"Host_acceptance_rate\"].replace(\"N/A\", \"No Data\", inplace=True)\n",
    "listings[\"Host_is_superhost\"].replace({\"t\": \"Superhost\", \"f\": \"Host\"}, inplace=True)\n",
    "listings[\"Host_has_profile_pic\"].replace({\"t\": \"Yes\", \"f\": \"No\"}, inplace=True)\n",
    "listings[\"Host_identity_verified\"].replace({\"t\": \"Yes\", \"f\": \"No\"}, inplace=True)\n",
    "listings[\"City\"].replace({\"Other (International)\": \"Buenos Aires\", \"Mendoza\": \"Buenos Aires\", \"Ocean City\": \"Buenos Aires\", \"South Florida Gulf Coast\": \"Buenos Aires\", \"Beirut\": \"Buenos Aires\", \"\": \"Buenos Aires\"}, inplace=True)\n",
    "listings[\"Is_location_exact\"].replace({\"t\": \"Yes\", \"f\": \"No\"}, inplace=True)\n",
    "listings[\"Instant_bookable\"].replace({\"t\": \"InstantBookable\", \"f\": \"NotInstantBookable\"}, inplace=True)\n",
    "listings[\"State\"].replace({\"\": \"No Data\", \"N/A\": \"No Data\"}, inplace=True)\n",
    "\n",
    "# Convertir la columna 'Price' a tipo de datos string (str)\n",
    "listings['Price'] = listings['Price'].astype(str)\n",
    "\n",
    "# Eliminar caracteres no deseados y convertir a tipo numérico\n",
    "listings['Price'] = listings['Price'].str.replace('[$,]', '', regex=True).astype(float)\n",
    "\n",
    "# Verificamos las columnas que tiene la tabla\n",
    "print(\"Columnas de la tabla listings:\")\n",
    "print(listings.columns)\n"
   ]
  },
  {
   "cell_type": "code",
   "execution_count": null,
   "metadata": {},
   "outputs": [],
   "source": [
    "# Tabla reviews\n",
    "\n",
    "# Cambiar tipos de dato\n",
    "reviews[\"listing_id\"] = reviews[\"listing_id\"].astype(int)\n",
    "reviews[\"id\"] = reviews[\"id\"].astype(int)\n",
    "reviews[\"date\"] = pd.to_datetime(reviews[\"date\"])\n",
    "reviews[\"reviewer_id\"] = reviews[\"reviewer_id\"].astype(int)\n",
    "reviews[\"reviewer_name\"] = reviews[\"reviewer_name\"].astype(str)\n",
    "reviews[\"comments\"] = reviews[\"comments\"].astype(str)\n",
    "\n",
    "# Cambiar nombres de columnas a mayuscula inicial\n",
    "reviews.columns = [col.capitalize() for col in reviews.columns]\n",
    "\n",
    "# Cambiar nombre de columna \"Id\" a \"Id_review\"\n",
    "reviews.rename(columns={\"Id\": \"Id_review\"}, inplace=True)\n",
    "\n",
    "# Limpiar y recortar el texto en la columna \"Comments\"\n",
    "reviews[\"Comments\"] = reviews[\"Comments\"].str.strip()\n",
    "\n",
    "# Verificamos las columnas que tiene la tabla\n",
    "print(\"Columnas de la tabla reviews:\")\n",
    "print(reviews.columns)\n"
   ]
  },
  {
   "cell_type": "code",
   "execution_count": null,
   "metadata": {},
   "outputs": [],
   "source": [
    "print(\"Primeros registros del dataframe 'calendar': \")\n",
    "print(calendar.head())\n",
    "\n",
    "print(\"Primeros registros del dataframe 'listings': \")\n",
    "print(listings.head())\n",
    "\n",
    "print(\"Primeros registros del dataframe 'reviews': \")\n",
    "print(reviews.head())"
   ]
  },
  {
   "cell_type": "code",
   "execution_count": null,
   "metadata": {},
   "outputs": [],
   "source": [
    "print(\"Informacion del dataframe 'reviews': \")\n",
    "print(reviews.info())"
   ]
  },
  {
   "cell_type": "markdown",
   "metadata": {},
   "source": [
    "PROCESO EDA"
   ]
  },
  {
   "cell_type": "code",
   "execution_count": null,
   "metadata": {},
   "outputs": [],
   "source": [
    "# Diagrama de Dispercion\n",
    "# Realizamos un diagrama de dispercion del precio vs la calificacion de la tabla listings\n",
    "# Para ver la correlacion que hay entre el precio del alojamiento y el valor de la valuacion de la propiedad segun los usuarios.\n",
    "\n",
    "# Quitamos los valores extremos de la columna price del dataframe listings\n",
    "\n",
    "# Calcular el promedio y la desviacion estandar \n",
    "promedio = listings[\"Price\"].mean()\n",
    "std = listings[\"Price\"].std()\n",
    "\n",
    "# Definir un umbral\n",
    "umbral = 5 * std\n",
    "\n",
    "# Quitar los valores extremos \n",
    "listings = listings[(listings[\"Price\"] >= promedio - umbral) & (listings[\"Price\"] <= promedio + umbral)]\n",
    "\n",
    "# Calcular el promedio y la desviacion estandar\n",
    "promedio = listings[\"Price\"].mean()\n",
    "std = listings[\"Price\"].std()"
   ]
  },
  {
   "cell_type": "code",
   "execution_count": null,
   "metadata": {},
   "outputs": [],
   "source": [
    "# Establecer un estilo de grafico de seaborn\n",
    "sns.set(style=\"darkgrid\")\n",
    "\n",
    "# Crear un grafico de dispersion con el mismo color\n",
    "plt.figure(figsize=(12,8))\n",
    "plt.scatter(listings[\"Price\"], listings[\"Review_scores_rating\"], alpha=0.4, color='#2ecc71')\n",
    "plt.title('Correlacion entre la calificacion y el precio', fontsize=16)\n",
    "plt.xlabel('Precio', fontsize=13)\n",
    "plt.ylabel('Calificacion', fontsize=13)\n",
    "\n",
    "plt.grid(True)\n",
    "plt.show()"
   ]
  },
  {
   "cell_type": "code",
   "execution_count": null,
   "metadata": {},
   "outputs": [],
   "source": [
    "# Histograma\n",
    "\n",
    "# La columna Price de la tabla clendar contiene valores extremos, por lo que se tuvo que utilizar la escala logaritmica para\n",
    "# evitar que todos los valores caigan en un solo contenedor\n",
    "\n",
    "plt.figure(figsize=(10,6))\n",
    "plt.hist(calendar[\"Price\"], bins=50, edgecolor = 'red')\n",
    "plt.yscale('log')\n",
    "plt.title('Histograma de Precios (Escala logaritmica)')\n",
    "plt.xlabel('Precio')\n",
    "plt.ylabel('Frecuencia (escala logaritmica)')\n",
    "plt.show()"
   ]
  },
  {
   "cell_type": "code",
   "execution_count": null,
   "metadata": {},
   "outputs": [],
   "source": [
    "# Quitamos los valores extremos de la columna price de la tabla calendar\n",
    "\n",
    "# Calcular el promedio y desviacion estandar\n",
    "promedio = calendar[\"Price\"].mean()\n",
    "std = calendar[\"Price\"].std()\n",
    "\n",
    "# Definir un umbral \n",
    "umbral = 5 * std\n",
    "\n",
    "# Quitar los valores extremos \n",
    "calendar = calendar[(calendar[\"Price\"] >= promedio - umbral) & (calendar[\"Price\"] <= promedio + umbral)]\n",
    "\n",
    "# Crear el histograma sin los valores extremos\n",
    "plt.figure(figsize=(10, 6))\n",
    "plt.hist(calendar[\"Price\"], bins=50, edgecolor='red')\n",
    "plt.title('Histograma de Precios')\n",
    "plt.xlabel('Precio')\n",
    "plt.ylabel('Frecuencia')\n",
    "plt.show()"
   ]
  }
 ],
 "metadata": {
  "kernelspec": {
   "display_name": "Python 3",
   "language": "python",
   "name": "python3"
  },
  "language_info": {
   "codemirror_mode": {
    "name": "ipython",
    "version": 3
   },
   "file_extension": ".py",
   "mimetype": "text/x-python",
   "name": "python",
   "nbconvert_exporter": "python",
   "pygments_lexer": "ipython3",
   "version": "3.12.0"
  }
 },
 "nbformat": 4,
 "nbformat_minor": 2
}
